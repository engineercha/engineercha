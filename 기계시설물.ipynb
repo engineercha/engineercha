{
  "nbformat": 4,
  "nbformat_minor": 0,
  "metadata": {
    "colab": {
      "provenance": [],
      "collapsed_sections": [
        "2rjmUatJ73eD",
        "cOBYLNSmGmu9",
        "KfJtNYT0wOme",
        "5qz6wbXnSagD"
      ],
      "authorship_tag": "ABX9TyMESogVfhm2Q41aSzpNmCPU",
      "include_colab_link": true
    },
    "kernelspec": {
      "name": "python3",
      "display_name": "Python 3"
    },
    "language_info": {
      "name": "python"
    }
  },
  "cells": [
    {
      "cell_type": "markdown",
      "metadata": {
        "id": "view-in-github",
        "colab_type": "text"
      },
      "source": [
        "<a href=\"https://colab.research.google.com/github/engineercha/engineercha/blob/master/%EA%B8%B0%EA%B3%84%EC%8B%9C%EC%84%A4%EB%AC%BC.ipynb\" target=\"_parent\"><img src=\"https://colab.research.google.com/assets/colab-badge.svg\" alt=\"Open In Colab\"/></a>"
      ]
    },
    {
      "cell_type": "markdown",
      "source": [
        "## 데이터 구조"
      ],
      "metadata": {
        "id": "y_Le1Gta-9V6"
      }
    },
    {
      "cell_type": "markdown",
      "source": [
        "2020-02-125.기계시설물고장예지_sample\n",
        "\n",
        "> current\n",
        ">>2.2kW\n",
        ">>>L-DSF-01 정상, 축정렬불량  \n",
        ">>>L-EF-04 정상, 회전체불평형  \n",
        ">>>L-SF-04 정상, 베어링불량  \n",
        ">>>R-EF-05 정상, 벨트느슨함  \n",
        "\n",
        ">>55kW  \n",
        ">>>L-PAHU-03S 정상, 회전체불평형  \n",
        ">>>R-PAHU-04S 정상, 벨트느슨함  \n",
        "\n",
        ">vibration\n",
        ">>2.2kW  \n",
        ">>55kW"
      ],
      "metadata": {
        "id": "5pb7W0BdC8lQ"
      }
    },
    {
      "cell_type": "code",
      "source": [
        "import numpy as np\n",
        "import pandas as pd\n",
        "import os\n",
        "import unicodedata\n",
        "import matplotlib.pyplot as plt\n",
        "from sklearn.model_selection import train_test_split\n",
        "import torch\n",
        "import pickle"
      ],
      "metadata": {
        "id": "a9cAgY_g75Kv"
      },
      "execution_count": 1,
      "outputs": []
    },
    {
      "cell_type": "code",
      "source": [
        "from google.colab import drive \n",
        "drive.mount('/content/gdrive/')\n",
        "file_path = \"/content/gdrive/MyDrive/data/2020-02-125.기계시설물고장예지_sample/\"\n",
        "drive = '/content/gdrive/MyDrive/'"
      ],
      "metadata": {
        "id": "ww_1v6Jh76uE",
        "colab": {
          "base_uri": "https://localhost:8080/"
        },
        "outputId": "bbd4e729-28fd-487f-9e2c-d1229cab2740"
      },
      "execution_count": 2,
      "outputs": [
        {
          "output_type": "stream",
          "name": "stdout",
          "text": [
            "Mounted at /content/gdrive/\n"
          ]
        }
      ]
    },
    {
      "cell_type": "markdown",
      "source": [
        "## 1.데이터프레임 만들고 csv로 저장하기"
      ],
      "metadata": {
        "id": "2rjmUatJ73eD"
      }
    },
    {
      "cell_type": "markdown",
      "source": [
        "load 함수\n",
        "- x데이터 만드는 함수\n",
        "- 모든 csv파일 불러와서 하나의 data frame으로 저장함 (변수: df)\n",
        "\n",
        "label 함수\n",
        "- y데이터 만드는 함수\n",
        "- 각 csv파일 개수 가져와서 고장유형을 라벨링하는 array로 저장함 (변수: arr)\n",
        "- 정상(0), 베어링불량(1), 벨트느슨함(2), 축정렬불량(3), 회전체불평형(4)\n",
        "\n",
        "corv 파라미터\n",
        "- current 또는 vibration\n",
        "\n",
        "xc, yc, xv, yv 변수\n",
        "- current와 vibration의 x데이터와 y데이터\n"
      ],
      "metadata": {
        "id": "vHBLcYaO8F81"
      }
    },
    {
      "cell_type": "code",
      "source": [
        "def load(corv):\n",
        "  if corv not in ['current','vibration']: return None\n",
        "  df=pd.DataFrame()\n",
        "  i=1\n",
        "  for machine in os.listdir(file_path+corv+'/2.2kW'):\n",
        "      for types in os.listdir(file_path+corv+'/2.2kW/'+machine):\n",
        "        for files in os.listdir(file_path+corv+'/2.2kW/'+machine+'/'+types):\n",
        "          tmp=pd.read_csv(file_path+corv+'/2.2kW/'+machine+'/'+types+'/'+files, skiprows=9, header=None)\n",
        "          if corv=='current':\n",
        "            tmp=tmp.drop([0, 4],axis=1)\n",
        "          elif corv=='vibration':\n",
        "            tmp=tmp.drop([0, 2],axis=1)\n",
        "          tmp=tmp.transpose()\n",
        "          df=pd.concat([df, tmp])\n",
        "          if i==1:\n",
        "            res=machine+' '+types\n",
        "            print(i, res)\n",
        "          elif res!=machine+' '+types:\n",
        "            res=machine+' '+types\n",
        "            print(i, res)\n",
        "          i+=1\n",
        "  df.reset_index().drop(['index'], axis=1)\n",
        "  return df\n",
        "\n",
        "def label(corv):\n",
        "  if corv not in ['current','vibration']: return None\n",
        "  i=0\n",
        "  for machine in os.listdir(file_path+corv+'/2.2kW'):\n",
        "    for types in os.listdir(file_path+corv+'/2.2kW/'+machine):\n",
        "      types=unicodedata.normalize('NFC', types)\n",
        "      mylen=len(os.listdir(file_path+corv+'/2.2kW/'+machine+'/'+types))\n",
        "      if corv=='current': mylen*=3\n",
        "\n",
        "      if types=='정상': tmp=np.zeros(mylen)\n",
        "      elif '베어링' in types: tmp=np.ones(mylen)*1\n",
        "      elif '벨트' in types: tmp=np.ones(mylen)*2\n",
        "      elif '축' in types: tmp=np.ones(mylen)*3\n",
        "      elif '회전체' in types: tmp=np.ones(mylen)*4\n",
        "      if i==0: arr=tmp\n",
        "      else: arr=np.hstack([arr,tmp])\n",
        "      i+=1\n",
        "  return arr"
      ],
      "metadata": {
        "id": "cx8i2zbL5v1G"
      },
      "execution_count": 70,
      "outputs": []
    },
    {
      "cell_type": "markdown",
      "source": [
        "## 2-1.y데이터"
      ],
      "metadata": {
        "id": "cOBYLNSmGmu9"
      }
    },
    {
      "cell_type": "code",
      "source": [
        "def label(corv):\n",
        "  if corv not in ['current','vibration']: return None\n",
        "  i=0\n",
        "  for machine in os.listdir(file_path+corv+'/2.2kW'):\n",
        "    for types in os.listdir(file_path+corv+'/2.2kW/'+machine):\n",
        "      types=unicodedata.normalize('NFC', types)\n",
        "      mylen=len(os.listdir(file_path+corv+'/2.2kW/'+machine+'/'+types))\n",
        "      if corv=='current': mylen*=3\n",
        "\n",
        "      if types=='정상': tmp=np.zeros(mylen)\n",
        "      elif '베어링' in types: tmp=np.ones(mylen)*1\n",
        "      elif '벨트' in types: tmp=np.ones(mylen)*2\n",
        "      elif '축' in types: tmp=np.ones(mylen)*3\n",
        "      elif '회전체' in types: tmp=np.ones(mylen)*4\n",
        "      if i==0: arr=tmp\n",
        "      else: arr=np.hstack([arr,tmp])\n",
        "      i+=1\n",
        "  return arr\n",
        "\n",
        "yc=label('current')\n",
        "yv=label('vibration')"
      ],
      "metadata": {
        "id": "fe_0EnIzGrbx"
      },
      "execution_count": 6,
      "outputs": []
    },
    {
      "cell_type": "markdown",
      "source": [
        "## 2-2.x데이터 불러와서 split하고 pickle로 저장하기(일단 전류만)"
      ],
      "metadata": {
        "id": "KfJtNYT0wOme"
      }
    },
    {
      "cell_type": "code",
      "source": [
        "#데이터프레임 불러오기\n",
        "raw=pd.read_csv('/content/gdrive/MyDrive/CURRENT.csv', index_col=0)\n",
        "\n",
        "#라벨 추가하기\n",
        "raw['label']=pd.DataFrame(yc)\n",
        "\n",
        "#데이터셋 훈련, 검증, 테스트 분리하기\n",
        "train, valid = train_test_split(raw, test_size=0.40, random_state=0, shuffle=True)\n",
        "valid, test = train_test_split(valid, test_size=0.50, random_state=0, shuffle=True)\n",
        "\n",
        "#데이터셋 x와 y 분리하기\n",
        "train_x=train.iloc[:,:-1] #모든행, 열은 라벨은 빼고\n",
        "valid_x=valid.iloc[:,:-1]\n",
        "test_x=test.iloc[:,:-1]\n",
        "train_y=train.iloc[:,-1] #모든행, 열은 라벨만\n",
        "valid_y=valid.iloc[:,-1]\n",
        "test_y=test.iloc[:,-1]\n",
        "\n",
        "#피클로 저장하기\n",
        "train_x.to_pickle(os.path.join(drive, 'xtrain.pkl'))\n",
        "valid_x.to_pickle(os.path.join(drive, 'xvalid.pkl'))\n",
        "test_x.to_pickle(os.path.join(drive, 'xtest.pkl'))\n",
        "train_y.to_pickle(os.path.join(drive, 'ytrain.pkl'))\n",
        "valid_y.to_pickle(os.path.join(drive, 'yvalid.pkl'))\n",
        "test_y.to_pickle(os.path.join(drive, 'ytest.pkl'))"
      ],
      "metadata": {
        "id": "Xyghfl56mXv-"
      },
      "execution_count": 7,
      "outputs": []
    },
    {
      "cell_type": "code",
      "source": [
        "print(train.shape, '->', train_x.shape, train_y.shape)\n",
        "print(valid.shape, '->', valid_x.shape, valid_y.shape)\n",
        "print(test.shape, '->', test_x.shape, test_y.shape)"
      ],
      "metadata": {
        "colab": {
          "base_uri": "https://localhost:8080/"
        },
        "id": "P_mt57vHnjHx",
        "outputId": "bf4206d0-3e1c-4398-8e2c-970f87740253"
      },
      "execution_count": 8,
      "outputs": [
        {
          "output_type": "stream",
          "name": "stdout",
          "text": [
            "(3393, 2001) -> (3393, 2000) (3393,)\n",
            "(1131, 2001) -> (1131, 2000) (1131,)\n",
            "(1131, 2001) -> (1131, 2000) (1131,)\n"
          ]
        }
      ]
    },
    {
      "cell_type": "markdown",
      "source": [
        "### 실행하지 마셈 수정중임"
      ],
      "metadata": {
        "id": "5qz6wbXnSagD"
      }
    },
    {
      "cell_type": "code",
      "source": [
        "#DataFrame-> ndarray-> Tensor\n",
        "train_x=torch.from_numpy( train.iloc[:,:-1].values ) #모든행, 열은 라벨은 빼고\n",
        "valid_x=torch.from_numpy( valid.iloc[:,:-1].values )\n",
        "test_x=torch.from_numpy( test.iloc[:,:-1].values )\n",
        "train_y=torch.from_numpy( train.iloc[:,-1].values ) #모든행, 열은 라벨만\n",
        "valid_y=torch.from_numpy( valid.iloc[:,-1].values )\n",
        "test_y=torch.from_numpy( test.iloc[:,-1].values )\n",
        "\n",
        "#차원 증가하기\n",
        "train_x=torch.unsqueeze(train_x, 1) \n",
        "valid_x=torch.unsqueeze(valid_x, 1)\n",
        "test_x=torch.unsqueeze(test_x, 1)\n",
        "\n",
        "#피클로 저장하기\n",
        "with open('train_x.pickle', 'wb') as f:\n",
        "  pickle.dump(train_x, f, pickle.HIGHEST_PROTOCOL)\n",
        "with open('valid_x.pickle', 'wb') as f:\n",
        "  pickle.dump(valid_x, f, pickle.HIGHEST_PROTOCOL)\n",
        "with open('test_x.pickle', 'wb') as f:\n",
        "  pickle.dump(test_x, f, pickle.HIGHEST_PROTOCOL)\n",
        "with open('train_y.pickle', 'wb') as f:\n",
        "  pickle.dump(train_y, f, pickle.HIGHEST_PROTOCOL)\n",
        "with open('valid_y.pickle', 'wb') as f:\n",
        "  pickle.dump(valid_y, f, pickle.HIGHEST_PROTOCOL)\n",
        "with open('test_y.pickle', 'wb') as f:\n",
        "  pickle.dump(test_y, f, pickle.HIGHEST_PROTOCOL)\n",
        "\n",
        "#피클 불러오기\n",
        "with open('test_x.pickle', 'rb') as f:\n",
        "    X_train = pickle.load(f)"
      ],
      "metadata": {
        "id": "uI5DEINBEXtL"
      },
      "execution_count": 9,
      "outputs": []
    },
    {
      "cell_type": "code",
      "source": [
        "print(train.shape, '->', train_x.shape, train_y.shape)\n",
        "print(valid.shape, '->', valid_x.shape, valid_y.shape)\n",
        "print(test.shape, '->', test_x.shape, test_y.shape)"
      ],
      "metadata": {
        "colab": {
          "base_uri": "https://localhost:8080/"
        },
        "outputId": "297832e1-90fa-42b0-a098-5f9219adb3a1",
        "id": "XeS6zUtSIGWI"
      },
      "execution_count": null,
      "outputs": [
        {
          "output_type": "stream",
          "name": "stdout",
          "text": [
            "(3393, 2001) -> torch.Size([3393, 1, 2000]) torch.Size([3393])\n",
            "(1131, 2001) -> torch.Size([1131, 1, 2000]) torch.Size([1131])\n",
            "(1131, 2001) -> torch.Size([1131, 1, 2000]) torch.Size([1131])\n"
          ]
        }
      ]
    },
    {
      "cell_type": "markdown",
      "source": [
        "런타임 재실행하면 저장한 피클 파일 날아감"
      ],
      "metadata": {
        "id": "lcOS3zDGOmP9"
      }
    },
    {
      "cell_type": "markdown",
      "source": [
        "## pickle 불러오기"
      ],
      "metadata": {
        "id": "_WZ_wZV7HPRq"
      }
    },
    {
      "cell_type": "code",
      "source": [
        "#피클 불러오기\n",
        "X_test=pd.read_pickle(os.path.join(drive, 'xtest.pkl'))\n",
        "X_test.head()"
      ],
      "metadata": {
        "colab": {
          "base_uri": "https://localhost:8080/",
          "height": 299
        },
        "id": "hyDpGWttOWb4",
        "outputId": "c008c1cf-c09c-4a49-c8a8-d186dda2461e"
      },
      "execution_count": 4,
      "outputs": [
        {
          "output_type": "execute_result",
          "data": {
            "text/plain": [
              "          0         1         2         3         4         5         6  \\\n",
              "2 -1.161133 -1.801758 -2.362305 -2.682617 -2.842773 -2.802734 -2.762695   \n",
              "3 -0.320312  0.560547  1.401367  2.682617  3.323242  4.003906  4.324219   \n",
              "2  3.898804  4.018921  4.219116  4.339233  4.339233  4.018921  3.698608   \n",
              "2 -2.882812 -3.002930 -3.083008 -2.602539 -1.881836 -1.241211 -0.600586   \n",
              "1 -3.558472 -2.597534 -1.996948 -0.995972  0.045044  0.965942  1.766724   \n",
              "\n",
              "          7         8         9  ...      1990      1991      1992      1993  \\\n",
              "2 -2.842773 -2.842773 -2.882812  ...  2.802734  2.802734  2.882812  2.442383   \n",
              "3  4.404297  4.484375  4.524414  ... -3.883789 -4.003906 -4.244141 -4.124023   \n",
              "2  3.098022  2.257202  1.376343  ... -3.828735 -3.188110 -2.307251 -1.506470   \n",
              "2 -0.240234  0.200195  0.600586  ...  0.080078 -0.320312 -0.840820 -1.481445   \n",
              "1  2.567505  3.368286  4.129028  ... -1.116089 -1.956909 -2.557495 -3.278198   \n",
              "\n",
              "       1994      1995      1996      1997      1998      1999  \n",
              "2  1.761719  1.081055  0.480469  0.080078 -0.360352 -0.880859  \n",
              "3 -4.083984 -3.803711 -3.563477 -2.842773 -2.402344 -1.761719  \n",
              "2 -0.705688 -0.185181  0.495483  1.296265  2.337280  3.017944  \n",
              "2 -2.122070 -2.642578 -2.762695 -2.722656 -2.682617 -2.802734  \n",
              "1 -3.678589 -3.958862 -4.199097 -4.319214 -4.439331 -4.439331  \n",
              "\n",
              "[5 rows x 2000 columns]"
            ],
            "text/html": [
              "\n",
              "  <div id=\"df-d1dd1936-961e-4567-909c-7318d678feec\">\n",
              "    <div class=\"colab-df-container\">\n",
              "      <div>\n",
              "<style scoped>\n",
              "    .dataframe tbody tr th:only-of-type {\n",
              "        vertical-align: middle;\n",
              "    }\n",
              "\n",
              "    .dataframe tbody tr th {\n",
              "        vertical-align: top;\n",
              "    }\n",
              "\n",
              "    .dataframe thead th {\n",
              "        text-align: right;\n",
              "    }\n",
              "</style>\n",
              "<table border=\"1\" class=\"dataframe\">\n",
              "  <thead>\n",
              "    <tr style=\"text-align: right;\">\n",
              "      <th></th>\n",
              "      <th>0</th>\n",
              "      <th>1</th>\n",
              "      <th>2</th>\n",
              "      <th>3</th>\n",
              "      <th>4</th>\n",
              "      <th>5</th>\n",
              "      <th>6</th>\n",
              "      <th>7</th>\n",
              "      <th>8</th>\n",
              "      <th>9</th>\n",
              "      <th>...</th>\n",
              "      <th>1990</th>\n",
              "      <th>1991</th>\n",
              "      <th>1992</th>\n",
              "      <th>1993</th>\n",
              "      <th>1994</th>\n",
              "      <th>1995</th>\n",
              "      <th>1996</th>\n",
              "      <th>1997</th>\n",
              "      <th>1998</th>\n",
              "      <th>1999</th>\n",
              "    </tr>\n",
              "  </thead>\n",
              "  <tbody>\n",
              "    <tr>\n",
              "      <th>2</th>\n",
              "      <td>-1.161133</td>\n",
              "      <td>-1.801758</td>\n",
              "      <td>-2.362305</td>\n",
              "      <td>-2.682617</td>\n",
              "      <td>-2.842773</td>\n",
              "      <td>-2.802734</td>\n",
              "      <td>-2.762695</td>\n",
              "      <td>-2.842773</td>\n",
              "      <td>-2.842773</td>\n",
              "      <td>-2.882812</td>\n",
              "      <td>...</td>\n",
              "      <td>2.802734</td>\n",
              "      <td>2.802734</td>\n",
              "      <td>2.882812</td>\n",
              "      <td>2.442383</td>\n",
              "      <td>1.761719</td>\n",
              "      <td>1.081055</td>\n",
              "      <td>0.480469</td>\n",
              "      <td>0.080078</td>\n",
              "      <td>-0.360352</td>\n",
              "      <td>-0.880859</td>\n",
              "    </tr>\n",
              "    <tr>\n",
              "      <th>3</th>\n",
              "      <td>-0.320312</td>\n",
              "      <td>0.560547</td>\n",
              "      <td>1.401367</td>\n",
              "      <td>2.682617</td>\n",
              "      <td>3.323242</td>\n",
              "      <td>4.003906</td>\n",
              "      <td>4.324219</td>\n",
              "      <td>4.404297</td>\n",
              "      <td>4.484375</td>\n",
              "      <td>4.524414</td>\n",
              "      <td>...</td>\n",
              "      <td>-3.883789</td>\n",
              "      <td>-4.003906</td>\n",
              "      <td>-4.244141</td>\n",
              "      <td>-4.124023</td>\n",
              "      <td>-4.083984</td>\n",
              "      <td>-3.803711</td>\n",
              "      <td>-3.563477</td>\n",
              "      <td>-2.842773</td>\n",
              "      <td>-2.402344</td>\n",
              "      <td>-1.761719</td>\n",
              "    </tr>\n",
              "    <tr>\n",
              "      <th>2</th>\n",
              "      <td>3.898804</td>\n",
              "      <td>4.018921</td>\n",
              "      <td>4.219116</td>\n",
              "      <td>4.339233</td>\n",
              "      <td>4.339233</td>\n",
              "      <td>4.018921</td>\n",
              "      <td>3.698608</td>\n",
              "      <td>3.098022</td>\n",
              "      <td>2.257202</td>\n",
              "      <td>1.376343</td>\n",
              "      <td>...</td>\n",
              "      <td>-3.828735</td>\n",
              "      <td>-3.188110</td>\n",
              "      <td>-2.307251</td>\n",
              "      <td>-1.506470</td>\n",
              "      <td>-0.705688</td>\n",
              "      <td>-0.185181</td>\n",
              "      <td>0.495483</td>\n",
              "      <td>1.296265</td>\n",
              "      <td>2.337280</td>\n",
              "      <td>3.017944</td>\n",
              "    </tr>\n",
              "    <tr>\n",
              "      <th>2</th>\n",
              "      <td>-2.882812</td>\n",
              "      <td>-3.002930</td>\n",
              "      <td>-3.083008</td>\n",
              "      <td>-2.602539</td>\n",
              "      <td>-1.881836</td>\n",
              "      <td>-1.241211</td>\n",
              "      <td>-0.600586</td>\n",
              "      <td>-0.240234</td>\n",
              "      <td>0.200195</td>\n",
              "      <td>0.600586</td>\n",
              "      <td>...</td>\n",
              "      <td>0.080078</td>\n",
              "      <td>-0.320312</td>\n",
              "      <td>-0.840820</td>\n",
              "      <td>-1.481445</td>\n",
              "      <td>-2.122070</td>\n",
              "      <td>-2.642578</td>\n",
              "      <td>-2.762695</td>\n",
              "      <td>-2.722656</td>\n",
              "      <td>-2.682617</td>\n",
              "      <td>-2.802734</td>\n",
              "    </tr>\n",
              "    <tr>\n",
              "      <th>1</th>\n",
              "      <td>-3.558472</td>\n",
              "      <td>-2.597534</td>\n",
              "      <td>-1.996948</td>\n",
              "      <td>-0.995972</td>\n",
              "      <td>0.045044</td>\n",
              "      <td>0.965942</td>\n",
              "      <td>1.766724</td>\n",
              "      <td>2.567505</td>\n",
              "      <td>3.368286</td>\n",
              "      <td>4.129028</td>\n",
              "      <td>...</td>\n",
              "      <td>-1.116089</td>\n",
              "      <td>-1.956909</td>\n",
              "      <td>-2.557495</td>\n",
              "      <td>-3.278198</td>\n",
              "      <td>-3.678589</td>\n",
              "      <td>-3.958862</td>\n",
              "      <td>-4.199097</td>\n",
              "      <td>-4.319214</td>\n",
              "      <td>-4.439331</td>\n",
              "      <td>-4.439331</td>\n",
              "    </tr>\n",
              "  </tbody>\n",
              "</table>\n",
              "<p>5 rows × 2000 columns</p>\n",
              "</div>\n",
              "      <button class=\"colab-df-convert\" onclick=\"convertToInteractive('df-d1dd1936-961e-4567-909c-7318d678feec')\"\n",
              "              title=\"Convert this dataframe to an interactive table.\"\n",
              "              style=\"display:none;\">\n",
              "        \n",
              "  <svg xmlns=\"http://www.w3.org/2000/svg\" height=\"24px\"viewBox=\"0 0 24 24\"\n",
              "       width=\"24px\">\n",
              "    <path d=\"M0 0h24v24H0V0z\" fill=\"none\"/>\n",
              "    <path d=\"M18.56 5.44l.94 2.06.94-2.06 2.06-.94-2.06-.94-.94-2.06-.94 2.06-2.06.94zm-11 1L8.5 8.5l.94-2.06 2.06-.94-2.06-.94L8.5 2.5l-.94 2.06-2.06.94zm10 10l.94 2.06.94-2.06 2.06-.94-2.06-.94-.94-2.06-.94 2.06-2.06.94z\"/><path d=\"M17.41 7.96l-1.37-1.37c-.4-.4-.92-.59-1.43-.59-.52 0-1.04.2-1.43.59L10.3 9.45l-7.72 7.72c-.78.78-.78 2.05 0 2.83L4 21.41c.39.39.9.59 1.41.59.51 0 1.02-.2 1.41-.59l7.78-7.78 2.81-2.81c.8-.78.8-2.07 0-2.86zM5.41 20L4 18.59l7.72-7.72 1.47 1.35L5.41 20z\"/>\n",
              "  </svg>\n",
              "      </button>\n",
              "      \n",
              "  <style>\n",
              "    .colab-df-container {\n",
              "      display:flex;\n",
              "      flex-wrap:wrap;\n",
              "      gap: 12px;\n",
              "    }\n",
              "\n",
              "    .colab-df-convert {\n",
              "      background-color: #E8F0FE;\n",
              "      border: none;\n",
              "      border-radius: 50%;\n",
              "      cursor: pointer;\n",
              "      display: none;\n",
              "      fill: #1967D2;\n",
              "      height: 32px;\n",
              "      padding: 0 0 0 0;\n",
              "      width: 32px;\n",
              "    }\n",
              "\n",
              "    .colab-df-convert:hover {\n",
              "      background-color: #E2EBFA;\n",
              "      box-shadow: 0px 1px 2px rgba(60, 64, 67, 0.3), 0px 1px 3px 1px rgba(60, 64, 67, 0.15);\n",
              "      fill: #174EA6;\n",
              "    }\n",
              "\n",
              "    [theme=dark] .colab-df-convert {\n",
              "      background-color: #3B4455;\n",
              "      fill: #D2E3FC;\n",
              "    }\n",
              "\n",
              "    [theme=dark] .colab-df-convert:hover {\n",
              "      background-color: #434B5C;\n",
              "      box-shadow: 0px 1px 3px 1px rgba(0, 0, 0, 0.15);\n",
              "      filter: drop-shadow(0px 1px 2px rgba(0, 0, 0, 0.3));\n",
              "      fill: #FFFFFF;\n",
              "    }\n",
              "  </style>\n",
              "\n",
              "      <script>\n",
              "        const buttonEl =\n",
              "          document.querySelector('#df-d1dd1936-961e-4567-909c-7318d678feec button.colab-df-convert');\n",
              "        buttonEl.style.display =\n",
              "          google.colab.kernel.accessAllowed ? 'block' : 'none';\n",
              "\n",
              "        async function convertToInteractive(key) {\n",
              "          const element = document.querySelector('#df-d1dd1936-961e-4567-909c-7318d678feec');\n",
              "          const dataTable =\n",
              "            await google.colab.kernel.invokeFunction('convertToInteractive',\n",
              "                                                     [key], {});\n",
              "          if (!dataTable) return;\n",
              "\n",
              "          const docLinkHtml = 'Like what you see? Visit the ' +\n",
              "            '<a target=\"_blank\" href=https://colab.research.google.com/notebooks/data_table.ipynb>data table notebook</a>'\n",
              "            + ' to learn more about interactive tables.';\n",
              "          element.innerHTML = '';\n",
              "          dataTable['output_type'] = 'display_data';\n",
              "          await google.colab.output.renderOutput(dataTable, element);\n",
              "          const docLink = document.createElement('div');\n",
              "          docLink.innerHTML = docLinkHtml;\n",
              "          element.appendChild(docLink);\n",
              "        }\n",
              "      </script>\n",
              "    </div>\n",
              "  </div>\n",
              "  "
            ]
          },
          "metadata": {},
          "execution_count": 4
        }
      ]
    },
    {
      "cell_type": "markdown",
      "source": [
        "## 데이터 불러오기"
      ],
      "metadata": {
        "id": "GmryRKHqC9lI"
      }
    },
    {
      "cell_type": "code",
      "source": [
        "import numpy as np\n",
        "import pandas as pd\n",
        "import os\n",
        "import unicodedata\n",
        "import matplotlib.pyplot as plt"
      ],
      "metadata": {
        "id": "nSnw2OvBNHiB"
      },
      "execution_count": null,
      "outputs": []
    },
    {
      "cell_type": "code",
      "execution_count": null,
      "metadata": {
        "colab": {
          "base_uri": "https://localhost:8080/"
        },
        "id": "xKq3I2Uz-Yxd",
        "outputId": "c9a5ffe5-c952-40c0-9692-672d95823f62"
      },
      "outputs": [
        {
          "output_type": "stream",
          "name": "stdout",
          "text": [
            "Drive already mounted at /content/gdrive/; to attempt to forcibly remount, call drive.mount(\"/content/gdrive/\", force_remount=True).\n"
          ]
        }
      ],
      "source": [
        "from google.colab import drive \n",
        "drive.mount('/content/gdrive/')\n",
        "file_path = \"/content/gdrive/MyDrive/data/2020-02-125.기계시설물고장예지_sample/\""
      ]
    },
    {
      "cell_type": "code",
      "source": [
        "!sudo apt-get install -y fonts-nanum\n",
        "!sudo fc-cache -fv\n",
        "!rm ~/.cache/matplotlib -rf"
      ],
      "metadata": {
        "id": "4zII9S8viw-v"
      },
      "execution_count": null,
      "outputs": []
    },
    {
      "cell_type": "code",
      "source": [
        "for machine in os.listdir(file_path+'current/2.2kW'):\n",
        "    print(machine)"
      ],
      "metadata": {
        "colab": {
          "base_uri": "https://localhost:8080/"
        },
        "id": "_3xMbuHSFcmA",
        "outputId": "e8cffa92-5296-4ca9-801a-06ec355d6d99"
      },
      "execution_count": null,
      "outputs": [
        {
          "output_type": "stream",
          "name": "stdout",
          "text": [
            "L-DSF-01\n",
            "L-SF-04\n",
            "L-EF-04\n",
            "R-EF-05\n"
          ]
        }
      ]
    },
    {
      "cell_type": "code",
      "source": [
        "for machine in os.listdir(file_path+'current/2.2kW'):\n",
        "    print(os.listdir(file_path+'current/2.2kW/'+machine))"
      ],
      "metadata": {
        "colab": {
          "base_uri": "https://localhost:8080/"
        },
        "id": "C_1v6TiqG95U",
        "outputId": "9012e1eb-8022-4971-e4d0-9d80d9a835ba"
      },
      "execution_count": null,
      "outputs": [
        {
          "output_type": "stream",
          "name": "stdout",
          "text": [
            "['축정렬불량', '정상']\n",
            "['정상', '베어링불량']\n",
            "['회전체불평형', '정상']\n",
            "['벨트느슨함', '정상']\n"
          ]
        }
      ]
    },
    {
      "cell_type": "code",
      "source": [
        "for machine in os.listdir(file_path+'current/2.2kW'):\n",
        "  for types in os.listdir(file_path+'current/2.2kW/'+machine):\n",
        "    print(len(os.listdir(file_path+'current/2.2kW/'+machine+'/'+types)))"
      ],
      "metadata": {
        "colab": {
          "base_uri": "https://localhost:8080/"
        },
        "id": "VYDD0eVqHnis",
        "outputId": "a6d3ec02-68b8-4e1a-85bb-b14e50ceb2e4"
      },
      "execution_count": null,
      "outputs": [
        {
          "output_type": "stream",
          "name": "stdout",
          "text": [
            "364\n",
            "97\n",
            "77\n",
            "200\n",
            "229\n",
            "667\n",
            "186\n",
            "65\n"
          ]
        }
      ]
    },
    {
      "cell_type": "markdown",
      "source": [
        "## x데이터"
      ],
      "metadata": {
        "id": "7hpQ7FIAm-bx"
      }
    },
    {
      "cell_type": "markdown",
      "source": [
        "![image.png](data:image/png;base64,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)"
      ],
      "metadata": {
        "id": "YI2h5e8Dyc3K"
      }
    },
    {
      "cell_type": "markdown",
      "source": [
        "- df: 모든 csv파일 데이터를 담을 최종 data frame임\n",
        "- - dfc: current\n",
        "- - dfv: vibration\n",
        "- i: 몇번째 저장 중인지 알려주는 인덱스임\n",
        "- machine: 기계이름 가져옴\n",
        "- types: 고장유형 가져옴\n",
        "- files: 파일이름 가져옴\n",
        "- tmp: csv파일 하나를 읽어와서 임시 저정하는 변수임, 9행까지는 skip함, 필요 없는 행 드롭함, 행열 뒤집음\n",
        "- - dfc에서는 0열과 4열을 삭제\n",
        "- - dfv에서는 0열과 2열을 삭제\n",
        "- df: df에 tmp 결합함\n",
        "- if: 실행확인을 위해 100 단위로 인덱스 출력함"
      ],
      "metadata": {
        "id": "N1IofS_symHh"
      }
    },
    {
      "cell_type": "code",
      "source": [
        "df=pd.DataFrame()\n",
        "i=1 \n",
        "\n",
        "for machine in os.listdir(file_path+'/current/2.2kW'):\n",
        "  for types in os.listdir(file_path+'/current/2.2kW/'+machine):\n",
        "    for files in os.listdir(file_path+'/current/2.2kW/'+machine+'/'+types):\n",
        "      tmp=pd.read_csv(file_path+'/current/2.2kW/'+machine+'/'+types+'/'+files, skiprows=9)\n",
        "      tmp=tmp.drop(['0','Unnamed: 4'],axis=1)\n",
        "      tmp=tmp.transpose()\n",
        "      df=pd.concat([df, tmp])\n",
        "      if i%100==0: print(i, machine, types)\n",
        "      i+=1"
      ],
      "metadata": {
        "colab": {
          "base_uri": "https://localhost:8080/"
        },
        "id": "VGrF3RezC9oq",
        "outputId": "3b2c6b18-3a1e-4a6d-d623-58df00b55709"
      },
      "execution_count": null,
      "outputs": [
        {
          "output_type": "stream",
          "name": "stdout",
          "text": [
            "100 L-DSF-01 축정렬불량\n",
            "200 L-DSF-01 축정렬불량\n",
            "300 L-DSF-01 축정렬불량\n",
            "400 L-DSF-01 정상\n",
            "500 L-SF-04 정상\n",
            "600 L-SF-04 베어링불량\n",
            "700 L-SF-04 베어링불량\n",
            "800 L-EF-04 회전체불평형\n",
            "900 L-EF-04 회전체불평형\n",
            "1000 L-EF-04 정상\n",
            "1100 L-EF-04 정상\n",
            "1200 L-EF-04 정상\n",
            "1300 L-EF-04 정상\n",
            "1400 L-EF-04 정상\n",
            "1500 L-EF-04 정상\n",
            "1600 L-EF-04 정상\n",
            "1700 R-EF-05 벨트느슨함\n",
            "1800 R-EF-05 벨트느슨함\n"
          ]
        }
      ]
    },
    {
      "cell_type": "code",
      "source": [
        "df"
      ],
      "metadata": {
        "colab": {
          "base_uri": "https://localhost:8080/",
          "height": 487
        },
        "id": "T8fVTIb5hRD6",
        "outputId": "5d15aa69-4a79-4b24-de35-1d8290f57def"
      },
      "execution_count": null,
      "outputs": [
        {
          "output_type": "execute_result",
          "data": {
            "text/plain": [
              "                   0         1         2         3         4         5     \\\n",
              "3.04296875     3.243164  3.323242  3.443359  3.042969  2.522461  1.881836   \n",
              "-1.361328125  -2.082031 -2.562500 -2.962891 -2.962891 -2.922852 -3.042969   \n",
              "-2.7626953125 -2.242188 -1.641602 -1.161133 -0.640625  0.080078  0.960938   \n",
              "3.283203125    3.042969  2.522461  1.921875  1.361328  0.880859  0.480469   \n",
              "-2.8828125    -2.922852 -2.882812 -2.882812 -2.922852 -2.922852 -2.882812   \n",
              "...                 ...       ...       ...       ...       ...       ...   \n",
              "2.5224609375   1.961914  1.561523  1.000977  0.600586  0.040039 -0.640625   \n",
              "-2.8828125    -3.042969 -3.083008 -3.002930 -2.882812 -2.762695 -2.602539   \n",
              "-2.6025390625 -2.242188 -1.921875 -1.561523 -1.121094 -0.600586  0.000000   \n",
              "2.162109375    2.402344  2.562500  2.682617  2.722656  2.522461  2.242188   \n",
              "0.1           -0.640625 -1.161133 -1.601562 -2.082031 -2.362305 -2.642578   \n",
              "\n",
              "                   6         7         8         9     ...      1989  \\\n",
              "3.04296875     1.281250  0.800781  0.400391 -0.240234  ... -2.562500   \n",
              "-1.361328125  -3.042969 -2.962891 -2.882812 -2.322266  ...  2.722656   \n",
              "-2.7626953125  1.721680  2.242188  2.682617  2.842773  ... -0.480469   \n",
              "3.283203125   -0.120117 -0.800781 -1.601562 -2.242188  ... -0.760742   \n",
              "-2.8828125    -2.362305 -1.721680 -1.161133 -0.640625  ...  2.842773   \n",
              "...                 ...       ...       ...       ...  ...       ...   \n",
              "2.5224609375  -1.321289 -1.641602 -2.082031 -2.602539  ... -0.480469   \n",
              "-2.8828125    -1.961914 -1.561523 -1.081055 -0.600586  ...  2.402344   \n",
              "-2.6025390625  0.640625  1.121094  1.561523  2.041992  ... -0.920898   \n",
              "2.162109375    1.921875  1.401367  1.081055  0.600586  ... -2.402344   \n",
              "0.1           -2.882812 -2.962891 -3.002930 -3.002930  ...  2.682617   \n",
              "\n",
              "                   1990      1991      1992      1993      1994      1995  \\\n",
              "3.04296875    -1.961914 -1.441406 -1.000977 -0.600586  0.040039  0.800781   \n",
              "-1.361328125   2.842773  2.842773  2.842773  2.762695  2.242188  1.641602   \n",
              "-2.7626953125 -1.321289 -1.961914 -2.602539 -3.042969 -3.163086 -3.363281   \n",
              "3.283203125   -0.320312  0.320312  1.081055  1.921875  2.402344  2.802734   \n",
              "-2.8828125     2.682617  2.041992  1.441406  0.760742  0.320312  0.000000   \n",
              "...                 ...       ...       ...       ...       ...       ...   \n",
              "2.5224609375   0.120117  0.600586  1.081055  1.521484  1.921875  2.322266   \n",
              "-2.8828125     1.961914  1.561523  1.201172  0.760742  0.280273 -0.280273   \n",
              "-2.6025390625 -1.561523 -1.961914 -2.402344 -2.762695 -2.922852 -3.163086   \n",
              "2.162109375   -1.801758 -1.361328 -0.960938 -0.480469  0.240234  0.840820   \n",
              "0.1            2.762695  2.682617  2.682617  2.562500  2.041992  1.601562   \n",
              "\n",
              "                   1996      1997      1998  \n",
              "3.04296875     1.601562  2.242188  2.642578  \n",
              "-1.361328125   1.081055  0.520508  0.120117  \n",
              "-2.7626953125 -3.683594 -3.843750 -3.883789  \n",
              "3.283203125    2.922852  2.922852  3.042969  \n",
              "-2.8828125    -0.520508 -1.041016 -1.721680  \n",
              "...                 ...       ...       ...  \n",
              "2.5224609375   2.522461  2.562500  2.522461  \n",
              "-2.8828125    -0.800781 -1.241211 -1.601562  \n",
              "-2.6025390625 -3.163086 -3.163086 -2.922852  \n",
              "2.162109375    1.521484  1.921875  2.242188  \n",
              "0.1            1.081055  0.640625  0.160156  \n",
              "\n",
              "[5655 rows x 1999 columns]"
            ],
            "text/html": [
              "\n",
              "  <div id=\"df-69123e11-ff05-4548-9ecd-ac0cc8a6aca9\">\n",
              "    <div class=\"colab-df-container\">\n",
              "      <div>\n",
              "<style scoped>\n",
              "    .dataframe tbody tr th:only-of-type {\n",
              "        vertical-align: middle;\n",
              "    }\n",
              "\n",
              "    .dataframe tbody tr th {\n",
              "        vertical-align: top;\n",
              "    }\n",
              "\n",
              "    .dataframe thead th {\n",
              "        text-align: right;\n",
              "    }\n",
              "</style>\n",
              "<table border=\"1\" class=\"dataframe\">\n",
              "  <thead>\n",
              "    <tr style=\"text-align: right;\">\n",
              "      <th></th>\n",
              "      <th>0</th>\n",
              "      <th>1</th>\n",
              "      <th>2</th>\n",
              "      <th>3</th>\n",
              "      <th>4</th>\n",
              "      <th>5</th>\n",
              "      <th>6</th>\n",
              "      <th>7</th>\n",
              "      <th>8</th>\n",
              "      <th>9</th>\n",
              "      <th>...</th>\n",
              "      <th>1989</th>\n",
              "      <th>1990</th>\n",
              "      <th>1991</th>\n",
              "      <th>1992</th>\n",
              "      <th>1993</th>\n",
              "      <th>1994</th>\n",
              "      <th>1995</th>\n",
              "      <th>1996</th>\n",
              "      <th>1997</th>\n",
              "      <th>1998</th>\n",
              "    </tr>\n",
              "  </thead>\n",
              "  <tbody>\n",
              "    <tr>\n",
              "      <th>3.04296875</th>\n",
              "      <td>3.243164</td>\n",
              "      <td>3.323242</td>\n",
              "      <td>3.443359</td>\n",
              "      <td>3.042969</td>\n",
              "      <td>2.522461</td>\n",
              "      <td>1.881836</td>\n",
              "      <td>1.281250</td>\n",
              "      <td>0.800781</td>\n",
              "      <td>0.400391</td>\n",
              "      <td>-0.240234</td>\n",
              "      <td>...</td>\n",
              "      <td>-2.562500</td>\n",
              "      <td>-1.961914</td>\n",
              "      <td>-1.441406</td>\n",
              "      <td>-1.000977</td>\n",
              "      <td>-0.600586</td>\n",
              "      <td>0.040039</td>\n",
              "      <td>0.800781</td>\n",
              "      <td>1.601562</td>\n",
              "      <td>2.242188</td>\n",
              "      <td>2.642578</td>\n",
              "    </tr>\n",
              "    <tr>\n",
              "      <th>-1.361328125</th>\n",
              "      <td>-2.082031</td>\n",
              "      <td>-2.562500</td>\n",
              "      <td>-2.962891</td>\n",
              "      <td>-2.962891</td>\n",
              "      <td>-2.922852</td>\n",
              "      <td>-3.042969</td>\n",
              "      <td>-3.042969</td>\n",
              "      <td>-2.962891</td>\n",
              "      <td>-2.882812</td>\n",
              "      <td>-2.322266</td>\n",
              "      <td>...</td>\n",
              "      <td>2.722656</td>\n",
              "      <td>2.842773</td>\n",
              "      <td>2.842773</td>\n",
              "      <td>2.842773</td>\n",
              "      <td>2.762695</td>\n",
              "      <td>2.242188</td>\n",
              "      <td>1.641602</td>\n",
              "      <td>1.081055</td>\n",
              "      <td>0.520508</td>\n",
              "      <td>0.120117</td>\n",
              "    </tr>\n",
              "    <tr>\n",
              "      <th>-2.7626953125</th>\n",
              "      <td>-2.242188</td>\n",
              "      <td>-1.641602</td>\n",
              "      <td>-1.161133</td>\n",
              "      <td>-0.640625</td>\n",
              "      <td>0.080078</td>\n",
              "      <td>0.960938</td>\n",
              "      <td>1.721680</td>\n",
              "      <td>2.242188</td>\n",
              "      <td>2.682617</td>\n",
              "      <td>2.842773</td>\n",
              "      <td>...</td>\n",
              "      <td>-0.480469</td>\n",
              "      <td>-1.321289</td>\n",
              "      <td>-1.961914</td>\n",
              "      <td>-2.602539</td>\n",
              "      <td>-3.042969</td>\n",
              "      <td>-3.163086</td>\n",
              "      <td>-3.363281</td>\n",
              "      <td>-3.683594</td>\n",
              "      <td>-3.843750</td>\n",
              "      <td>-3.883789</td>\n",
              "    </tr>\n",
              "    <tr>\n",
              "      <th>3.283203125</th>\n",
              "      <td>3.042969</td>\n",
              "      <td>2.522461</td>\n",
              "      <td>1.921875</td>\n",
              "      <td>1.361328</td>\n",
              "      <td>0.880859</td>\n",
              "      <td>0.480469</td>\n",
              "      <td>-0.120117</td>\n",
              "      <td>-0.800781</td>\n",
              "      <td>-1.601562</td>\n",
              "      <td>-2.242188</td>\n",
              "      <td>...</td>\n",
              "      <td>-0.760742</td>\n",
              "      <td>-0.320312</td>\n",
              "      <td>0.320312</td>\n",
              "      <td>1.081055</td>\n",
              "      <td>1.921875</td>\n",
              "      <td>2.402344</td>\n",
              "      <td>2.802734</td>\n",
              "      <td>2.922852</td>\n",
              "      <td>2.922852</td>\n",
              "      <td>3.042969</td>\n",
              "    </tr>\n",
              "    <tr>\n",
              "      <th>-2.8828125</th>\n",
              "      <td>-2.922852</td>\n",
              "      <td>-2.882812</td>\n",
              "      <td>-2.882812</td>\n",
              "      <td>-2.922852</td>\n",
              "      <td>-2.922852</td>\n",
              "      <td>-2.882812</td>\n",
              "      <td>-2.362305</td>\n",
              "      <td>-1.721680</td>\n",
              "      <td>-1.161133</td>\n",
              "      <td>-0.640625</td>\n",
              "      <td>...</td>\n",
              "      <td>2.842773</td>\n",
              "      <td>2.682617</td>\n",
              "      <td>2.041992</td>\n",
              "      <td>1.441406</td>\n",
              "      <td>0.760742</td>\n",
              "      <td>0.320312</td>\n",
              "      <td>0.000000</td>\n",
              "      <td>-0.520508</td>\n",
              "      <td>-1.041016</td>\n",
              "      <td>-1.721680</td>\n",
              "    </tr>\n",
              "    <tr>\n",
              "      <th>...</th>\n",
              "      <td>...</td>\n",
              "      <td>...</td>\n",
              "      <td>...</td>\n",
              "      <td>...</td>\n",
              "      <td>...</td>\n",
              "      <td>...</td>\n",
              "      <td>...</td>\n",
              "      <td>...</td>\n",
              "      <td>...</td>\n",
              "      <td>...</td>\n",
              "      <td>...</td>\n",
              "      <td>...</td>\n",
              "      <td>...</td>\n",
              "      <td>...</td>\n",
              "      <td>...</td>\n",
              "      <td>...</td>\n",
              "      <td>...</td>\n",
              "      <td>...</td>\n",
              "      <td>...</td>\n",
              "      <td>...</td>\n",
              "      <td>...</td>\n",
              "    </tr>\n",
              "    <tr>\n",
              "      <th>2.5224609375</th>\n",
              "      <td>1.961914</td>\n",
              "      <td>1.561523</td>\n",
              "      <td>1.000977</td>\n",
              "      <td>0.600586</td>\n",
              "      <td>0.040039</td>\n",
              "      <td>-0.640625</td>\n",
              "      <td>-1.321289</td>\n",
              "      <td>-1.641602</td>\n",
              "      <td>-2.082031</td>\n",
              "      <td>-2.602539</td>\n",
              "      <td>...</td>\n",
              "      <td>-0.480469</td>\n",
              "      <td>0.120117</td>\n",
              "      <td>0.600586</td>\n",
              "      <td>1.081055</td>\n",
              "      <td>1.521484</td>\n",
              "      <td>1.921875</td>\n",
              "      <td>2.322266</td>\n",
              "      <td>2.522461</td>\n",
              "      <td>2.562500</td>\n",
              "      <td>2.522461</td>\n",
              "    </tr>\n",
              "    <tr>\n",
              "      <th>-2.8828125</th>\n",
              "      <td>-3.042969</td>\n",
              "      <td>-3.083008</td>\n",
              "      <td>-3.002930</td>\n",
              "      <td>-2.882812</td>\n",
              "      <td>-2.762695</td>\n",
              "      <td>-2.602539</td>\n",
              "      <td>-1.961914</td>\n",
              "      <td>-1.561523</td>\n",
              "      <td>-1.081055</td>\n",
              "      <td>-0.600586</td>\n",
              "      <td>...</td>\n",
              "      <td>2.402344</td>\n",
              "      <td>1.961914</td>\n",
              "      <td>1.561523</td>\n",
              "      <td>1.201172</td>\n",
              "      <td>0.760742</td>\n",
              "      <td>0.280273</td>\n",
              "      <td>-0.280273</td>\n",
              "      <td>-0.800781</td>\n",
              "      <td>-1.241211</td>\n",
              "      <td>-1.601562</td>\n",
              "    </tr>\n",
              "    <tr>\n",
              "      <th>-2.6025390625</th>\n",
              "      <td>-2.242188</td>\n",
              "      <td>-1.921875</td>\n",
              "      <td>-1.561523</td>\n",
              "      <td>-1.121094</td>\n",
              "      <td>-0.600586</td>\n",
              "      <td>0.000000</td>\n",
              "      <td>0.640625</td>\n",
              "      <td>1.121094</td>\n",
              "      <td>1.561523</td>\n",
              "      <td>2.041992</td>\n",
              "      <td>...</td>\n",
              "      <td>-0.920898</td>\n",
              "      <td>-1.561523</td>\n",
              "      <td>-1.961914</td>\n",
              "      <td>-2.402344</td>\n",
              "      <td>-2.762695</td>\n",
              "      <td>-2.922852</td>\n",
              "      <td>-3.163086</td>\n",
              "      <td>-3.163086</td>\n",
              "      <td>-3.163086</td>\n",
              "      <td>-2.922852</td>\n",
              "    </tr>\n",
              "    <tr>\n",
              "      <th>2.162109375</th>\n",
              "      <td>2.402344</td>\n",
              "      <td>2.562500</td>\n",
              "      <td>2.682617</td>\n",
              "      <td>2.722656</td>\n",
              "      <td>2.522461</td>\n",
              "      <td>2.242188</td>\n",
              "      <td>1.921875</td>\n",
              "      <td>1.401367</td>\n",
              "      <td>1.081055</td>\n",
              "      <td>0.600586</td>\n",
              "      <td>...</td>\n",
              "      <td>-2.402344</td>\n",
              "      <td>-1.801758</td>\n",
              "      <td>-1.361328</td>\n",
              "      <td>-0.960938</td>\n",
              "      <td>-0.480469</td>\n",
              "      <td>0.240234</td>\n",
              "      <td>0.840820</td>\n",
              "      <td>1.521484</td>\n",
              "      <td>1.921875</td>\n",
              "      <td>2.242188</td>\n",
              "    </tr>\n",
              "    <tr>\n",
              "      <th>0.1</th>\n",
              "      <td>-0.640625</td>\n",
              "      <td>-1.161133</td>\n",
              "      <td>-1.601562</td>\n",
              "      <td>-2.082031</td>\n",
              "      <td>-2.362305</td>\n",
              "      <td>-2.642578</td>\n",
              "      <td>-2.882812</td>\n",
              "      <td>-2.962891</td>\n",
              "      <td>-3.002930</td>\n",
              "      <td>-3.002930</td>\n",
              "      <td>...</td>\n",
              "      <td>2.682617</td>\n",
              "      <td>2.762695</td>\n",
              "      <td>2.682617</td>\n",
              "      <td>2.682617</td>\n",
              "      <td>2.562500</td>\n",
              "      <td>2.041992</td>\n",
              "      <td>1.601562</td>\n",
              "      <td>1.081055</td>\n",
              "      <td>0.640625</td>\n",
              "      <td>0.160156</td>\n",
              "    </tr>\n",
              "  </tbody>\n",
              "</table>\n",
              "<p>5655 rows × 1999 columns</p>\n",
              "</div>\n",
              "      <button class=\"colab-df-convert\" onclick=\"convertToInteractive('df-69123e11-ff05-4548-9ecd-ac0cc8a6aca9')\"\n",
              "              title=\"Convert this dataframe to an interactive table.\"\n",
              "              style=\"display:none;\">\n",
              "        \n",
              "  <svg xmlns=\"http://www.w3.org/2000/svg\" height=\"24px\"viewBox=\"0 0 24 24\"\n",
              "       width=\"24px\">\n",
              "    <path d=\"M0 0h24v24H0V0z\" fill=\"none\"/>\n",
              "    <path d=\"M18.56 5.44l.94 2.06.94-2.06 2.06-.94-2.06-.94-.94-2.06-.94 2.06-2.06.94zm-11 1L8.5 8.5l.94-2.06 2.06-.94-2.06-.94L8.5 2.5l-.94 2.06-2.06.94zm10 10l.94 2.06.94-2.06 2.06-.94-2.06-.94-.94-2.06-.94 2.06-2.06.94z\"/><path d=\"M17.41 7.96l-1.37-1.37c-.4-.4-.92-.59-1.43-.59-.52 0-1.04.2-1.43.59L10.3 9.45l-7.72 7.72c-.78.78-.78 2.05 0 2.83L4 21.41c.39.39.9.59 1.41.59.51 0 1.02-.2 1.41-.59l7.78-7.78 2.81-2.81c.8-.78.8-2.07 0-2.86zM5.41 20L4 18.59l7.72-7.72 1.47 1.35L5.41 20z\"/>\n",
              "  </svg>\n",
              "      </button>\n",
              "      \n",
              "  <style>\n",
              "    .colab-df-container {\n",
              "      display:flex;\n",
              "      flex-wrap:wrap;\n",
              "      gap: 12px;\n",
              "    }\n",
              "\n",
              "    .colab-df-convert {\n",
              "      background-color: #E8F0FE;\n",
              "      border: none;\n",
              "      border-radius: 50%;\n",
              "      cursor: pointer;\n",
              "      display: none;\n",
              "      fill: #1967D2;\n",
              "      height: 32px;\n",
              "      padding: 0 0 0 0;\n",
              "      width: 32px;\n",
              "    }\n",
              "\n",
              "    .colab-df-convert:hover {\n",
              "      background-color: #E2EBFA;\n",
              "      box-shadow: 0px 1px 2px rgba(60, 64, 67, 0.3), 0px 1px 3px 1px rgba(60, 64, 67, 0.15);\n",
              "      fill: #174EA6;\n",
              "    }\n",
              "\n",
              "    [theme=dark] .colab-df-convert {\n",
              "      background-color: #3B4455;\n",
              "      fill: #D2E3FC;\n",
              "    }\n",
              "\n",
              "    [theme=dark] .colab-df-convert:hover {\n",
              "      background-color: #434B5C;\n",
              "      box-shadow: 0px 1px 3px 1px rgba(0, 0, 0, 0.15);\n",
              "      filter: drop-shadow(0px 1px 2px rgba(0, 0, 0, 0.3));\n",
              "      fill: #FFFFFF;\n",
              "    }\n",
              "  </style>\n",
              "\n",
              "      <script>\n",
              "        const buttonEl =\n",
              "          document.querySelector('#df-69123e11-ff05-4548-9ecd-ac0cc8a6aca9 button.colab-df-convert');\n",
              "        buttonEl.style.display =\n",
              "          google.colab.kernel.accessAllowed ? 'block' : 'none';\n",
              "\n",
              "        async function convertToInteractive(key) {\n",
              "          const element = document.querySelector('#df-69123e11-ff05-4548-9ecd-ac0cc8a6aca9');\n",
              "          const dataTable =\n",
              "            await google.colab.kernel.invokeFunction('convertToInteractive',\n",
              "                                                     [key], {});\n",
              "          if (!dataTable) return;\n",
              "\n",
              "          const docLinkHtml = 'Like what you see? Visit the ' +\n",
              "            '<a target=\"_blank\" href=https://colab.research.google.com/notebooks/data_table.ipynb>data table notebook</a>'\n",
              "            + ' to learn more about interactive tables.';\n",
              "          element.innerHTML = '';\n",
              "          dataTable['output_type'] = 'display_data';\n",
              "          await google.colab.output.renderOutput(dataTable, element);\n",
              "          const docLink = document.createElement('div');\n",
              "          docLink.innerHTML = docLinkHtml;\n",
              "          element.appendChild(docLink);\n",
              "        }\n",
              "      </script>\n",
              "    </div>\n",
              "  </div>\n",
              "  "
            ]
          },
          "metadata": {},
          "execution_count": 20
        }
      ]
    },
    {
      "cell_type": "code",
      "source": [
        "df.to_csv('/content/gdrive/MyDrive/current.csv')\n",
        "\n",
        "##\n",
        "## df를 csv로 바꿔서 드라이브에 최종저장하는 것임!!! 한번만 실행!!!\n",
        "##"
      ],
      "metadata": {
        "id": "Z8cCtT4cnOWn"
      },
      "execution_count": null,
      "outputs": []
    },
    {
      "cell_type": "markdown",
      "source": [
        "## y데이터"
      ],
      "metadata": {
        "id": "Bbc94KZId0Pd"
      }
    },
    {
      "cell_type": "markdown",
      "source": [
        "- arr: 라벨 데이터를 담을 최종 array임\n",
        "- mylist: 고장유형이랑 파일개수를 순서대로 저장하는 리스트임\n",
        "- types: 아래의 오류 때문에 unicode 변환함\n",
        "- - 오류: 한글이 같은데 == 결과가 false가 나옴, type은 str인데 1로 인덱싱 하니 첫글자가 아니라 자음이 나옴\n",
        "- - 해결: https://jonsyou.tistory.com/26\n",
        "- mylen\n",
        "- for: step을 2로 해서 mylist에서 고장유형만 가져옴\n",
        "- if: 고장유형이 정상이면 np.zeros()를 써서 0이 파일개수만큼 있는 array를 tmp에 저장함\n",
        "- elif: 고장유형이 고장이면 np.ones()를 써서 1,2,3,4가 파일개수만큼 있는 array를 tmp에 저장함\n",
        "-if: 첫번째면 arr에 tmp 대입함 (arr가 없기 때문에 아래 코드 쓰면 오류남)\n",
        "-else: 아니면 arr에 tmp 이어붙이고 arr에 저장함"
      ],
      "metadata": {
        "id": "QfGHKh22p024"
      }
    },
    {
      "cell_type": "code",
      "source": [
        "mylist=[]\n",
        "for machine in os.listdir(file_path+'/current/2.2kW'):\n",
        "  for types in os.listdir(file_path+'/current/2.2kW/'+machine):\n",
        "    types=unicodedata.normalize('NFC', types)\n",
        "    mylen=len(os.listdir(file_path+'/current/2.2kW/'+machine+'/'+types))\n",
        "    mylist.append(str(types))\n",
        "    mylist.append(mylen)\n",
        "\n",
        "print(mylist)"
      ],
      "metadata": {
        "colab": {
          "base_uri": "https://localhost:8080/"
        },
        "id": "D81fYtZhITHU",
        "outputId": "353f49a3-ffbf-4b69-d63b-b0d10b23570d"
      },
      "execution_count": null,
      "outputs": [
        {
          "output_type": "stream",
          "name": "stdout",
          "text": [
            "['축정렬불량', 364, '정상', 97, '정상', 77, '베어링불량', 200, '회전체불평형', 229, '정상', 667, '벨트느슨함', 186, '정상', 65]\n"
          ]
        }
      ]
    },
    {
      "cell_type": "code",
      "source": [
        "for i in range(0,len(mylist),2):\n",
        "  print(i, mylist[i])\n",
        "  if mylist[i]=='정상': tmp=np.zeros(mylist[i+1])\n",
        "  elif '베어링' in mylist[i]: tmp=np.ones(mylist[i+1])*1\n",
        "  elif '벨트' in mylist[i]: tmp=np.ones(mylist[i+1])*2\n",
        "  elif '축' in mylist[i]: tmp=np.ones(mylist[i+1])*3\n",
        "  elif '회전체' in mylist[i]: tmp=np.ones(mylist[i+1])*4\n",
        "  if i==0: arr=tmp\n",
        "  else: arr=np.hstack([arr,tmp])"
      ],
      "metadata": {
        "colab": {
          "base_uri": "https://localhost:8080/"
        },
        "id": "Q7xJ6odn2wV0",
        "outputId": "fbcda723-ebb7-4ebf-cfd6-1468483ad991"
      },
      "execution_count": null,
      "outputs": [
        {
          "output_type": "stream",
          "name": "stdout",
          "text": [
            "0 축정렬불량\n",
            "2 정상\n",
            "4 정상\n",
            "6 베어링불량\n",
            "8 회전체불평형\n",
            "10 정상\n",
            "12 벨트느슨함\n",
            "14 정상\n"
          ]
        }
      ]
    },
    {
      "cell_type": "code",
      "source": [
        "arr[300:600]"
      ],
      "metadata": {
        "colab": {
          "base_uri": "https://localhost:8080/"
        },
        "id": "-rwnPVvAUBMl",
        "outputId": "5c057df0-0fb5-4fbb-b1d0-919a61c58dcb"
      },
      "execution_count": null,
      "outputs": [
        {
          "output_type": "execute_result",
          "data": {
            "text/plain": [
              "array([3., 3., 3., 3., 3., 3., 3., 3., 3., 3., 3., 3., 3., 3., 3., 3., 3.,\n",
              "       3., 3., 3., 3., 3., 3., 3., 3., 3., 3., 3., 3., 3., 3., 3., 3., 3.,\n",
              "       3., 3., 3., 3., 3., 3., 3., 3., 3., 3., 3., 3., 3., 3., 3., 3., 3.,\n",
              "       3., 3., 3., 3., 3., 3., 3., 3., 3., 3., 3., 3., 3., 0., 0., 0., 0.,\n",
              "       0., 0., 0., 0., 0., 0., 0., 0., 0., 0., 0., 0., 0., 0., 0., 0., 0.,\n",
              "       0., 0., 0., 0., 0., 0., 0., 0., 0., 0., 0., 0., 0., 0., 0., 0., 0.,\n",
              "       0., 0., 0., 0., 0., 0., 0., 0., 0., 0., 0., 0., 0., 0., 0., 0., 0.,\n",
              "       0., 0., 0., 0., 0., 0., 0., 0., 0., 0., 0., 0., 0., 0., 0., 0., 0.,\n",
              "       0., 0., 0., 0., 0., 0., 0., 0., 0., 0., 0., 0., 0., 0., 0., 0., 0.,\n",
              "       0., 0., 0., 0., 0., 0., 0., 0., 0., 0., 0., 0., 0., 0., 0., 0., 0.,\n",
              "       0., 0., 0., 0., 0., 0., 0., 0., 0., 0., 0., 0., 0., 0., 0., 0., 0.,\n",
              "       0., 0., 0., 0., 0., 0., 0., 0., 0., 0., 0., 0., 0., 0., 0., 0., 0.,\n",
              "       0., 0., 0., 0., 0., 0., 0., 0., 0., 0., 0., 0., 0., 0., 0., 0., 0.,\n",
              "       0., 0., 0., 0., 0., 0., 0., 0., 0., 0., 0., 0., 0., 0., 0., 0., 0.,\n",
              "       1., 1., 1., 1., 1., 1., 1., 1., 1., 1., 1., 1., 1., 1., 1., 1., 1.,\n",
              "       1., 1., 1., 1., 1., 1., 1., 1., 1., 1., 1., 1., 1., 1., 1., 1., 1.,\n",
              "       1., 1., 1., 1., 1., 1., 1., 1., 1., 1., 1., 1., 1., 1., 1., 1., 1.,\n",
              "       1., 1., 1., 1., 1., 1., 1., 1., 1., 1., 1.])"
            ]
          },
          "metadata": {},
          "execution_count": 83
        }
      ]
    },
    {
      "cell_type": "code",
      "source": [
        "plt.hist(list(arr))\n",
        "plt.rc('font', family='NanumBarunGothic')\n",
        "plt.title('고장유형별 데이터 수')\n",
        "plt.xticks(range(5), ['정상','베어링불량','벨트느슨함','축정렬불량','회전체불평형'])\n",
        "plt.show()\n",
        "\n",
        "[list(arr).count(i) for i in range(5)]"
      ],
      "metadata": {
        "colab": {
          "base_uri": "https://localhost:8080/",
          "height": 298
        },
        "id": "snq7_G8lcj4h",
        "outputId": "71cc0617-14b7-47ca-8e52-8077cfd9737a"
      },
      "execution_count": null,
      "outputs": [
        {
          "output_type": "display_data",
          "data": {
            "text/plain": [
              "<Figure size 432x288 with 1 Axes>"
            ],
            "image/png": "[encoded data removed]"
          },
          "metadata": {
            "needs_background": "light"
          }
        },
        {
          "output_type": "execute_result",
          "data": {
            "text/plain": [
              "[906, 200, 186, 364, 229]"
            ]
          },
          "metadata": {},
          "execution_count": 132
        }
      ]
    },
    {
      "cell_type": "code",
      "source": [
        "\n",
        "X_train, X_test, Y_train, Y_test = train_test_split(df, arr, test_size=0.3, random_state=0)\n"
      ],
      "metadata": {
        "id": "4tt1-HA-AmOC"
      },
      "execution_count": null,
      "outputs": []
    }
  ]
}